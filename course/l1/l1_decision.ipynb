{
  "nbformat": 4,
  "nbformat_minor": 0,
  "metadata": {
    "colab": {
      "provenance": []
    },
    "kernelspec": {
      "name": "python3",
      "display_name": "Python 3"
    },
    "language_info": {
      "name": "python"
    }
  },
  "cells": [
    {
      "cell_type": "markdown",
      "source": [
        "# Лабораторная работа №1 | Решение заданий для выполнения"
      ],
      "metadata": {
        "id": "GttnYsTK6Ytc"
      }
    },
    {
      "cell_type": "markdown",
      "source": [
        "1. Загрузить данные из файла в виде массива numpy типа int32, используя np.loadtxt. Вывести на экран первые 5 строк массива."
      ],
      "metadata": {
        "id": "g6B0cf-7-_Nq"
      }
    },
    {
      "cell_type": "code",
      "source": [
        "import numpy as np\n",
        "\n",
        "# Путь к загруженному файлу\n",
        "file_path = 'minutes_n_ingredients2.csv'\n",
        "\n",
        "# Загрузка данных из файла в виде массива numpy типа int32\n",
        "data = np.loadtxt(file_path, delimiter=',', dtype=np.int32, skiprows=1)\n",
        "\n",
        "# Вывод первых 5 строк массива\n",
        "print(data[:5])\n"
      ],
      "metadata": {
        "colab": {
          "base_uri": "https://localhost:8080/"
        },
        "id": "baSX529U_EvH",
        "outputId": "4431aef7-68a4-44da-b0f0-f3de71da10d0"
      },
      "execution_count": 10,
      "outputs": [
        {
          "output_type": "stream",
          "name": "stdout",
          "text": [
            "[[127244     60     16]\n",
            " [ 23891     25      7]\n",
            " [ 94746     10      6]\n",
            " [ 67660      5      6]\n",
            " [162911     60     14]]\n"
          ]
        }
      ]
    },
    {
      "cell_type": "markdown",
      "source": [
        "2. Вычислите среднее значение, минимум, максимум и медиану по каждому из столбцов, кроме первого."
      ],
      "metadata": {
        "id": "KXTrGvwE_vU2"
      }
    },
    {
      "cell_type": "code",
      "source": [
        "data_columns = data[:, 1:]\n",
        "\n",
        "# Вычисление статистических значений для каждого столбца\n",
        "mean_values = np.mean(data_columns, axis=0)\n",
        "min_values = np.min(data_columns, axis=0)\n",
        "max_values = np.max(data_columns, axis=0)\n",
        "median_values = np.median(data_columns, axis=0)\n",
        "\n",
        "# Вывод результатов\n",
        "print(\"Средние значения по столбцам:\", mean_values)\n",
        "print(\"Минимальные значения по столбцам:\", min_values)\n",
        "print(\"Максимальные значения по столбцам:\", max_values)\n",
        "print(\"Медианы по столбцам:\", median_values)"
      ],
      "metadata": {
        "colab": {
          "base_uri": "https://localhost:8080/"
        },
        "id": "KQ-UT2d9_wrL",
        "outputId": "783afba5-9d6e-4709-e1d2-de2a50c28302"
      },
      "execution_count": 14,
      "outputs": [
        {
          "output_type": "stream",
          "name": "stdout",
          "text": [
            "Средние значения по столбцам: [2.1601398e+04 9.0552800e+00]\n",
            "Минимальные значения по столбцам: [0 1]\n",
            "Максимальные значения по столбцам: [2147483647         39]\n",
            "Медианы по столбцам: [40.  9.]\n"
          ]
        }
      ]
    },
    {
      "cell_type": "markdown",
      "source": [
        "3. Ограничьте сверху значения продолжительности выполнения рецепта значением квантиля q0.75 ."
      ],
      "metadata": {
        "id": "CT-ATrdCBwQv"
      }
    },
    {
      "cell_type": "code",
      "source": [
        "# Извлечение столбца `minutes`\n",
        "minutes = data[:, 1]\n",
        "\n",
        "# Вычисление квантиля 0.75 для `minutes`\n",
        "q75 = np.percentile(minutes, 75)\n",
        "\n",
        "# Ограничение значений в `minutes` значением квантиля\n",
        "minutes_clipped = np.clip(minutes, None, q75)\n",
        "\n",
        "# Обновление данных в массиве\n",
        "data[:, 1] = minutes_clipped\n",
        "\n",
        "# Вывод первых 5 строк для проверки\n",
        "print(data[:5])"
      ],
      "metadata": {
        "colab": {
          "base_uri": "https://localhost:8080/"
        },
        "id": "kn3WxSB6Bxty",
        "outputId": "30c45c0c-ceee-4bd7-dc73-21ec259fd3af"
      },
      "execution_count": 16,
      "outputs": [
        {
          "output_type": "stream",
          "name": "stdout",
          "text": [
            "[[127244     60     16]\n",
            " [ 23891     25      7]\n",
            " [ 94746     10      6]\n",
            " [ 67660      5      6]\n",
            " [162911     60     14]]\n"
          ]
        }
      ]
    },
    {
      "cell_type": "markdown",
      "source": [
        "4. Посчитайте, для скольких рецептов указана продолжительность, равная нулю. Замените для таких строк значение в данном столбце на 1."
      ],
      "metadata": {
        "id": "DOd6XCZUCbuU"
      }
    },
    {
      "cell_type": "code",
      "source": [
        "# Подсчет количества рецептов с нулевой продолжительностью\n",
        "num_zero_minutes = np.sum(data[:, 1] == 0)\n",
        "print(\"Количество рецептов с нулевой продолжительностью:\", num_zero_minutes)\n",
        "\n",
        "# Замена нулевых значений на 1\n",
        "data[data[:, 1] == 0, 1] = 1\n",
        "\n",
        "# Проверка результата\n",
        "num_zero_minutes_after = np.sum(data[:, 1] == 0)\n",
        "print(\"Количество рецептов с нулевой продолжительностью после замены:\", num_zero_minutes_after)\n"
      ],
      "metadata": {
        "colab": {
          "base_uri": "https://localhost:8080/"
        },
        "id": "5pFea9jDCdfl",
        "outputId": "55f90038-77c8-4533-caf6-5095e3aa9767"
      },
      "execution_count": 18,
      "outputs": [
        {
          "output_type": "stream",
          "name": "stdout",
          "text": [
            "Количество рецептов с нулевой продолжительностью: 0\n",
            "Количество рецептов с нулевой продолжительностью после замены: 0\n"
          ]
        }
      ]
    },
    {
      "cell_type": "markdown",
      "source": [
        "5. Посчитайте, сколько уникальных рецептов находится в датасете."
      ],
      "metadata": {
        "id": "te9W19JJCtL9"
      }
    },
    {
      "cell_type": "code",
      "source": [
        "# Извлечение столбца с названиями рецептов (предполагается, что это первый столбец)\n",
        "recipes = data[:, 0]\n",
        "\n",
        "# Подсчет количества уникальных рецептов\n",
        "num_unique_recipes = np.unique(recipes).size\n",
        "\n",
        "print(\"Количество уникальных рецептов:\", num_unique_recipes)\n"
      ],
      "metadata": {
        "colab": {
          "base_uri": "https://localhost:8080/"
        },
        "id": "QQVFr5I1CuNF",
        "outputId": "53d5e72d-dc17-41a6-a09d-ab8c52999d40"
      },
      "execution_count": 19,
      "outputs": [
        {
          "output_type": "stream",
          "name": "stdout",
          "text": [
            "Количество уникальных рецептов: 98252\n"
          ]
        }
      ]
    },
    {
      "cell_type": "markdown",
      "source": [
        "6. Сколько и каких различных значений кол-ва ингредиентов присутвует в рецептах из датасета?"
      ],
      "metadata": {
        "id": "VrMNixh6C1wN"
      }
    },
    {
      "cell_type": "code",
      "source": [
        "# Извлечение столбца с количеством ингредиентов (предполагается, что это второй столбец)\n",
        "num_ingredients = data[:, 2]\n",
        "\n",
        "# Нахождение уникальных значений и их количества\n",
        "unique_ingredients, counts = np.unique(num_ingredients, return_counts=True)\n",
        "\n",
        "# Вывод результатов\n",
        "print(\"Количество различных значений количества ингредиентов:\", unique_ingredients.size)\n",
        "print(\"Уникальные значения и их количество:\")\n",
        "for value, count in zip(unique_ingredients, counts):\n",
        "    print(f\"Значение: {value}, Количество: {count}\")\n"
      ],
      "metadata": {
        "colab": {
          "base_uri": "https://localhost:8080/"
        },
        "id": "ErzKmWLOC4Xj",
        "outputId": "e21d0970-9150-42de-dbd0-b646495d80d7"
      },
      "execution_count": 20,
      "outputs": [
        {
          "output_type": "stream",
          "name": "stdout",
          "text": [
            "Количество различных значений количества ингредиентов: 37\n",
            "Уникальные значения и их количество:\n",
            "Значение: 1, Количество: 13\n",
            "Значение: 2, Количество: 926\n",
            "Значение: 3, Количество: 2895\n",
            "Значение: 4, Количество: 5515\n",
            "Значение: 5, Количество: 7913\n",
            "Значение: 6, Количество: 9376\n",
            "Значение: 7, Количество: 10628\n",
            "Значение: 8, Количество: 10951\n",
            "Значение: 9, Количество: 10585\n",
            "Значение: 10, Количество: 9591\n",
            "Значение: 11, Количество: 8297\n",
            "Значение: 12, Количество: 6605\n",
            "Значение: 13, Количество: 4997\n",
            "Значение: 14, Количество: 3663\n",
            "Значение: 15, Количество: 2595\n",
            "Значение: 16, Количество: 1767\n",
            "Значение: 17, Количество: 1246\n",
            "Значение: 18, Количество: 790\n",
            "Значение: 19, Количество: 573\n",
            "Значение: 20, Количество: 376\n",
            "Значение: 21, Количество: 217\n",
            "Значение: 22, Количество: 161\n",
            "Значение: 23, Количество: 105\n",
            "Значение: 24, Количество: 69\n",
            "Значение: 25, Количество: 50\n",
            "Значение: 26, Количество: 28\n",
            "Значение: 27, Количество: 16\n",
            "Значение: 28, Количество: 16\n",
            "Значение: 29, Количество: 12\n",
            "Значение: 30, Количество: 12\n",
            "Значение: 31, Количество: 3\n",
            "Значение: 32, Количество: 1\n",
            "Значение: 33, Количество: 2\n",
            "Значение: 34, Количество: 1\n",
            "Значение: 35, Количество: 3\n",
            "Значение: 37, Количество: 1\n",
            "Значение: 39, Количество: 1\n"
          ]
        }
      ]
    },
    {
      "cell_type": "markdown",
      "source": [
        "7. Создайте версию массива, содержащую информацию только о рецептах, состоящих не более чем из 5 ингредиентов."
      ],
      "metadata": {
        "id": "Bdof0jX4C-dH"
      }
    },
    {
      "cell_type": "code",
      "source": [
        "# Создание маски для рецептов с не более чем 5 ингредиентами\n",
        "mask = data[:, 2] <= 5\n",
        "\n",
        "# Создание новой версии массива с использованием маски\n",
        "filtered_data = data[mask]\n",
        "\n",
        "# Вывод первых 5 строк отфильтрованного массива\n",
        "print(filtered_data[:5])\n"
      ],
      "metadata": {
        "colab": {
          "base_uri": "https://localhost:8080/"
        },
        "id": "AwdYd2aJDBFn",
        "outputId": "cac64780-90ae-4b24-ffbd-ecedb7451fcc"
      },
      "execution_count": 21,
      "outputs": [
        {
          "output_type": "stream",
          "name": "stdout",
          "text": [
            "[[446597     15      5]\n",
            " [204134      5      3]\n",
            " [ 25623      6      4]\n",
            " [484223     18      4]\n",
            " [ 63150     65      4]]\n"
          ]
        }
      ]
    },
    {
      "cell_type": "markdown",
      "source": [
        "8. Для каждого рецепта посчитайте, сколько в среднем ингредиентов приходится на одну минуту рецепта. Найдите максимальное значение этой величины для всего датасета"
      ],
      "metadata": {
        "id": "FdK63pE2DB75"
      }
    },
    {
      "cell_type": "code",
      "source": [
        "# Вычисление среднего количества ингредиентов на минуту для каждого рецепта\n",
        "ingredients_per_minute = data[:, 2] / data[:, 1]\n",
        "\n",
        "# Нахождение максимального значения\n",
        "max_ingredients_per_minute = np.max(ingredients_per_minute)\n",
        "\n",
        "print(\"Максимальное среднее количество ингредиентов на минуту:\", max_ingredients_per_minute)\n"
      ],
      "metadata": {
        "colab": {
          "base_uri": "https://localhost:8080/"
        },
        "id": "k3rh9aN2DFpG",
        "outputId": "8bacfef1-a2bb-4fb4-8d7b-b484bc8943c2"
      },
      "execution_count": 22,
      "outputs": [
        {
          "output_type": "stream",
          "name": "stdout",
          "text": [
            "Максимальное среднее количество ингредиентов на минуту: 24.0\n"
          ]
        }
      ]
    },
    {
      "cell_type": "markdown",
      "source": [
        "9. Вычислите среднее количество ингредиентов для топ-100 рецептов с наибольшей продолжительностью"
      ],
      "metadata": {
        "id": "kjE0fNohDGFa"
      }
    },
    {
      "cell_type": "code",
      "source": [
        "# Сортировка рецептов по продолжительности в порядке убывания\n",
        "sorted_indices = np.argsort(data[:, 1])[::-1]\n",
        "sorted_data = data[sorted_indices]\n",
        "\n",
        "# Выбор топ-100 рецептов\n",
        "top_100_recipes = sorted_data[:100]\n",
        "\n",
        "# Вычисление среднего количества ингредиентов для топ-100 рецептов\n",
        "average_ingredients_top100 = np.mean(top_100_recipes[:, 2])\n",
        "\n",
        "print(\"Среднее количество ингредиентов для топ-100 рецептов с наибольшей продолжительностью:\", average_ingredients_top100)\n"
      ],
      "metadata": {
        "colab": {
          "base_uri": "https://localhost:8080/"
        },
        "id": "nI6heNHZDIuc",
        "outputId": "025df93d-73c6-4b43-9f5a-8a8b61d91fa1"
      },
      "execution_count": 23,
      "outputs": [
        {
          "output_type": "stream",
          "name": "stdout",
          "text": [
            "Среднее количество ингредиентов для топ-100 рецептов с наибольшей продолжительностью: 9.75\n"
          ]
        }
      ]
    },
    {
      "cell_type": "markdown",
      "source": [
        "10. Выберите случайным образом и выведите информацию о 10 различных рецептах"
      ],
      "metadata": {
        "id": "7tGtWBVJDJH4"
      }
    },
    {
      "cell_type": "code",
      "source": [
        "import random\n",
        "\n",
        "# Генерация 10 случайных индексов\n",
        "random_indices = random.sample(range(data.shape[0]), 10)\n",
        "\n",
        "# Выбор случайных рецептов\n",
        "random_recipes = data[random_indices]\n",
        "\n",
        "# Вывод информации о случайных рецептах\n",
        "for recipe in random_recipes:\n",
        "    print(\"Название:\", recipe[0])\n",
        "    print(\"Продолжительность (минуты):\", recipe[1])\n",
        "    print(\"Количество ингредиентов:\", recipe[2])\n",
        "    print(\"-\" * 20)\n"
      ],
      "metadata": {
        "colab": {
          "base_uri": "https://localhost:8080/"
        },
        "id": "RGRQBIoMDKpZ",
        "outputId": "c592d51f-6d01-4ebc-964c-8908ff585c60"
      },
      "execution_count": 24,
      "outputs": [
        {
          "output_type": "stream",
          "name": "stdout",
          "text": [
            "Название: 252594\n",
            "Продолжительность (минуты): 50\n",
            "Количество ингредиентов: 6\n",
            "--------------------\n",
            "Название: 85080\n",
            "Продолжительность (минуты): 30\n",
            "Количество ингредиентов: 5\n",
            "--------------------\n",
            "Название: 347346\n",
            "Продолжительность (минуты): 48\n",
            "Количество ингредиентов: 11\n",
            "--------------------\n",
            "Название: 453991\n",
            "Продолжительность (минуты): 5\n",
            "Количество ингредиентов: 4\n",
            "--------------------\n",
            "Название: 450374\n",
            "Продолжительность (минуты): 65\n",
            "Количество ингредиентов: 12\n",
            "--------------------\n",
            "Название: 223225\n",
            "Продолжительность (минуты): 10\n",
            "Количество ингредиентов: 3\n",
            "--------------------\n",
            "Название: 43932\n",
            "Продолжительность (минуты): 65\n",
            "Количество ингредиентов: 8\n",
            "--------------------\n",
            "Название: 454927\n",
            "Продолжительность (минуты): 15\n",
            "Количество ингредиентов: 20\n",
            "--------------------\n",
            "Название: 40849\n",
            "Продолжительность (минуты): 30\n",
            "Количество ингредиентов: 17\n",
            "--------------------\n",
            "Название: 156623\n",
            "Продолжительность (минуты): 65\n",
            "Количество ингредиентов: 6\n",
            "--------------------\n"
          ]
        }
      ]
    },
    {
      "cell_type": "markdown",
      "source": [
        "11. Выведите процент рецептов, кол-во ингредиентов в которых меньше среднего."
      ],
      "metadata": {
        "id": "U-9SbtG_DL5t"
      }
    },
    {
      "cell_type": "code",
      "source": [
        "# Вычисление среднего количества ингредиентов\n",
        "average_ingredients = np.mean(data[:, 2])\n",
        "\n",
        "# Подсчет количества рецептов с количеством ингредиентов меньше среднего\n",
        "num_recipes_below_average = np.sum(data[:, 2] < average_ingredients)\n",
        "\n",
        "# Вычисление процента таких рецептов\n",
        "percentage_below_average = (num_recipes_below_average / data.shape[0]) * 100\n",
        "\n",
        "print(\"Процент рецептов с количеством ингредиентов меньше среднего:\", percentage_below_average, \"%\")\n"
      ],
      "metadata": {
        "colab": {
          "base_uri": "https://localhost:8080/"
        },
        "id": "0-Ix7uVaDMpm",
        "outputId": "7f76e8cf-0166-432e-9683-15c596f37d09"
      },
      "execution_count": 27,
      "outputs": [
        {
          "output_type": "stream",
          "name": "stdout",
          "text": [
            "Процент рецептов с количеством ингредиентов меньше среднего: 58.802 %\n"
          ]
        }
      ]
    },
    {
      "cell_type": "markdown",
      "source": [
        "12. Назовем \"простым\" такой рецепт, длительность выполнения которого не больше 20 минут и кол-во ингредиентов в котором не больше 5. Создайте версию датасета с дополнительным столбцом, значениями которого являются 1, если рецепт простой, и 0 в противном случае."
      ],
      "metadata": {
        "id": "sLEz8Y-_DN0H"
      }
    },
    {
      "cell_type": "code",
      "source": [
        "# Создание маски для \"простых\" рецептов\n",
        "simple_mask = (data[:, 1] <= 20) & (data[:, 2] <= 5)\n",
        "\n",
        "# Создание столбца с метками \"простой\" (1) или \"не простой\" (0)\n",
        "simple_column = simple_mask.astype(int)\n",
        "\n",
        "# Добавление столбца к датасету\n",
        "data_with_simple = np.column_stack((data, simple_column))\n",
        "\n",
        "# Вывод первых 5 строк нового датасета\n",
        "print(data_with_simple[:5])\n"
      ],
      "metadata": {
        "colab": {
          "base_uri": "https://localhost:8080/"
        },
        "id": "QIB0PeRFDPWz",
        "outputId": "1e078690-6186-4f07-fbd9-94dbec5243ad"
      },
      "execution_count": 28,
      "outputs": [
        {
          "output_type": "stream",
          "name": "stdout",
          "text": [
            "[[127244     60     16      0]\n",
            " [ 23891     25      7      0]\n",
            " [ 94746     10      6      0]\n",
            " [ 67660      5      6      0]\n",
            " [162911     60     14      0]]\n"
          ]
        }
      ]
    },
    {
      "cell_type": "markdown",
      "source": [
        "13. Выведите процент \"простых\" рецептов в датасете"
      ],
      "metadata": {
        "id": "dTuP0I4iDQeg"
      }
    },
    {
      "cell_type": "code",
      "source": [
        "# Подсчет количества \"простых\" рецептов\n",
        "num_simple_recipes = np.sum(data_with_simple[:, -1])\n",
        "\n",
        "# Вычисление процента \"простых\" рецептов\n",
        "percentage_simple = (num_simple_recipes / data_with_simple.shape[0]) * 100\n",
        "\n",
        "print(\"Процент 'простых' рецептов:\", percentage_simple)\n"
      ],
      "metadata": {
        "colab": {
          "base_uri": "https://localhost:8080/"
        },
        "id": "ie8UpMfADRIK",
        "outputId": "e9df6544-e657-4d84-eb1a-050e602d4092"
      },
      "execution_count": 29,
      "outputs": [
        {
          "output_type": "stream",
          "name": "stdout",
          "text": [
            "Процент 'простых' рецептов: 9.552\n"
          ]
        }
      ]
    },
    {
      "cell_type": "markdown",
      "source": [
        "14. Разделим рецепты на группы по следующему правилу. Назовем рецепты короткими, если их продолжительность составляет менее 10 минут; стандартными, если их продолжительность составляет более 10, но менее 20 минут; и длинными, если их продолжительность составляет не менее 20 минут. Создайте трехмерный массив, где нулевая ось отвечает за номер группы (короткий, стандартный или длинный рецепт), первая ось - за сам рецепт и вторая ось - за характеристики рецепта. Выберите максимальное количество рецептов из каждой группы таким образом, чтобы было возможно сформировать трехмерный массив. Выведите форму полученного массива."
      ],
      "metadata": {
        "id": "7MrFkJP0DSFX"
      }
    },
    {
      "cell_type": "code",
      "source": [
        "# Создание масок для каждой группы\n",
        "short_mask = data[:, 1] < 10\n",
        "standard_mask = (data[:, 1] >= 10) & (data[:, 1] < 20)\n",
        "long_mask = data[:, 1] >= 20\n",
        "\n",
        "# Определение максимального количества рецептов в группе\n",
        "max_recipes_per_group = min(np.sum(short_mask), np.sum(standard_mask), np.sum(long_mask))\n",
        "\n",
        "# Выбор рецептов из каждой группы\n",
        "short_recipes = data[short_mask][:max_recipes_per_group]\n",
        "standard_recipes = data[standard_mask][:max_recipes_per_group]\n",
        "long_recipes = data[long_mask][:max_recipes_per_group]\n",
        "\n",
        "# Создание трехмерного массива\n",
        "grouped_recipes = np.stack((short_recipes, standard_recipes, long_recipes))\n",
        "\n",
        "# Вывод формы полученного массива\n",
        "print(\"Форма трехмерного массива:\", grouped_recipes.shape)\n"
      ],
      "metadata": {
        "colab": {
          "base_uri": "https://localhost:8080/"
        },
        "id": "Fx4xJmy7DSwc",
        "outputId": "3f849d7a-20e1-4ec6-b7fe-78b676356b17"
      },
      "execution_count": 31,
      "outputs": [
        {
          "output_type": "stream",
          "name": "stdout",
          "text": [
            "Форма трехмерного массива: (3, 7588, 3)\n"
          ]
        }
      ]
    }
  ]
}